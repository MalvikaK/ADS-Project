{
 "cells": [
  {
   "cell_type": "code",
   "execution_count": 49,
   "metadata": {},
   "outputs": [],
   "source": [
    "#Importing all the libraries\n",
    "\n",
    "import numpy as np\n",
    "import pandas as pd\n",
    "import matplotlib.pyplot as plt\n",
    "\n",
    "plt.style.use(\"ggplot\")\n",
    "\n",
    "import sklearn\n",
    "from sklearn.decomposition import TruncatedSVD"
   ]
  },
  {
   "cell_type": "markdown",
   "metadata": {},
   "source": [
    "# Load the Dataset"
   ]
  },
  {
   "cell_type": "code",
   "execution_count": 2,
   "metadata": {},
   "outputs": [
    {
     "data": {
      "text/plain": [
       "'C:\\\\Users\\\\nikhi\\\\Downloads\\\\retailbox-master\\\\retailbox-master'"
      ]
     },
     "execution_count": 2,
     "metadata": {},
     "output_type": "execute_result"
    }
   ],
   "source": [
    "pwd"
   ]
  },
  {
   "cell_type": "code",
   "execution_count": 3,
   "metadata": {},
   "outputs": [
    {
     "name": "stdout",
     "output_type": "stream",
     "text": [
      "C:\\Users\\nikhi\\Downloads\n"
     ]
    }
   ],
   "source": [
    "cd C:\\Users\\nikhi\\Downloads"
   ]
  },
  {
   "cell_type": "code",
   "execution_count": 50,
   "metadata": {},
   "outputs": [
    {
     "data": {
      "text/html": [
       "<div>\n",
       "<style scoped>\n",
       "    .dataframe tbody tr th:only-of-type {\n",
       "        vertical-align: middle;\n",
       "    }\n",
       "\n",
       "    .dataframe tbody tr th {\n",
       "        vertical-align: top;\n",
       "    }\n",
       "\n",
       "    .dataframe thead th {\n",
       "        text-align: right;\n",
       "    }\n",
       "</style>\n",
       "<table border=\"1\" class=\"dataframe\">\n",
       "  <thead>\n",
       "    <tr style=\"text-align: right;\">\n",
       "      <th></th>\n",
       "      <th>UserId</th>\n",
       "      <th>ProductId</th>\n",
       "      <th>Rating</th>\n",
       "      <th>Timestamp</th>\n",
       "    </tr>\n",
       "  </thead>\n",
       "  <tbody>\n",
       "    <tr>\n",
       "      <td>0</td>\n",
       "      <td>A39HTATAQ9V7YF</td>\n",
       "      <td>0205616461</td>\n",
       "      <td>5.0</td>\n",
       "      <td>1369699200</td>\n",
       "    </tr>\n",
       "    <tr>\n",
       "      <td>1</td>\n",
       "      <td>A3JM6GV9MNOF9X</td>\n",
       "      <td>0558925278</td>\n",
       "      <td>3.0</td>\n",
       "      <td>1355443200</td>\n",
       "    </tr>\n",
       "    <tr>\n",
       "      <td>2</td>\n",
       "      <td>A1Z513UWSAAO0F</td>\n",
       "      <td>0558925278</td>\n",
       "      <td>5.0</td>\n",
       "      <td>1404691200</td>\n",
       "    </tr>\n",
       "    <tr>\n",
       "      <td>3</td>\n",
       "      <td>A1WMRR494NWEWV</td>\n",
       "      <td>0733001998</td>\n",
       "      <td>4.0</td>\n",
       "      <td>1382572800</td>\n",
       "    </tr>\n",
       "    <tr>\n",
       "      <td>4</td>\n",
       "      <td>A3IAAVS479H7M7</td>\n",
       "      <td>0737104473</td>\n",
       "      <td>1.0</td>\n",
       "      <td>1274227200</td>\n",
       "    </tr>\n",
       "    <tr>\n",
       "      <td>5</td>\n",
       "      <td>AKJHHD5VEH7VG</td>\n",
       "      <td>0762451459</td>\n",
       "      <td>5.0</td>\n",
       "      <td>1404518400</td>\n",
       "    </tr>\n",
       "    <tr>\n",
       "      <td>6</td>\n",
       "      <td>A1BG8QW55XHN6U</td>\n",
       "      <td>1304139212</td>\n",
       "      <td>5.0</td>\n",
       "      <td>1371945600</td>\n",
       "    </tr>\n",
       "    <tr>\n",
       "      <td>7</td>\n",
       "      <td>A22VW0P4VZHDE3</td>\n",
       "      <td>1304139220</td>\n",
       "      <td>5.0</td>\n",
       "      <td>1373068800</td>\n",
       "    </tr>\n",
       "    <tr>\n",
       "      <td>8</td>\n",
       "      <td>A3V3RE4132GKRO</td>\n",
       "      <td>130414089X</td>\n",
       "      <td>5.0</td>\n",
       "      <td>1401840000</td>\n",
       "    </tr>\n",
       "    <tr>\n",
       "      <td>9</td>\n",
       "      <td>A327B0I7CYTEJC</td>\n",
       "      <td>130414643X</td>\n",
       "      <td>4.0</td>\n",
       "      <td>1389052800</td>\n",
       "    </tr>\n",
       "  </tbody>\n",
       "</table>\n",
       "</div>"
      ],
      "text/plain": [
       "           UserId   ProductId  Rating   Timestamp\n",
       "0  A39HTATAQ9V7YF  0205616461     5.0  1369699200\n",
       "1  A3JM6GV9MNOF9X  0558925278     3.0  1355443200\n",
       "2  A1Z513UWSAAO0F  0558925278     5.0  1404691200\n",
       "3  A1WMRR494NWEWV  0733001998     4.0  1382572800\n",
       "4  A3IAAVS479H7M7  0737104473     1.0  1274227200\n",
       "5   AKJHHD5VEH7VG  0762451459     5.0  1404518400\n",
       "6  A1BG8QW55XHN6U  1304139212     5.0  1371945600\n",
       "7  A22VW0P4VZHDE3  1304139220     5.0  1373068800\n",
       "8  A3V3RE4132GKRO  130414089X     5.0  1401840000\n",
       "9  A327B0I7CYTEJC  130414643X     4.0  1389052800"
      ]
     },
     "execution_count": 50,
     "metadata": {},
     "output_type": "execute_result"
    }
   ],
   "source": [
    "\n",
    "Product_Rate = pd.read_csv('Rating_Product.csv')\n",
    "\n",
    "Product_Rate = Product_Rate.dropna()\n",
    "\n",
    "Product_Rate.head(10)"
   ]
  },
  {
   "cell_type": "code",
   "execution_count": 51,
   "metadata": {},
   "outputs": [
    {
     "data": {
      "text/plain": [
       "(2023070, 4)"
      ]
     },
     "execution_count": 51,
     "metadata": {},
     "output_type": "execute_result"
    }
   ],
   "source": [
    "\n",
    "Product_Rate.shape"
   ]
  },
  {
   "cell_type": "markdown",
   "metadata": {},
   "source": [
    "# Find top 10 Popular Products\n"
   ]
  },
  {
   "cell_type": "code",
   "execution_count": 53,
   "metadata": {},
   "outputs": [
    {
     "data": {
      "text/html": [
       "<div>\n",
       "<style scoped>\n",
       "    .dataframe tbody tr th:only-of-type {\n",
       "        vertical-align: middle;\n",
       "    }\n",
       "\n",
       "    .dataframe tbody tr th {\n",
       "        vertical-align: top;\n",
       "    }\n",
       "\n",
       "    .dataframe thead th {\n",
       "        text-align: right;\n",
       "    }\n",
       "</style>\n",
       "<table border=\"1\" class=\"dataframe\">\n",
       "  <thead>\n",
       "    <tr style=\"text-align: right;\">\n",
       "      <th></th>\n",
       "      <th>Rating</th>\n",
       "    </tr>\n",
       "    <tr>\n",
       "      <th>ProductId</th>\n",
       "      <th></th>\n",
       "    </tr>\n",
       "  </thead>\n",
       "  <tbody>\n",
       "    <tr>\n",
       "      <td>B001MA0QY2</td>\n",
       "      <td>7533</td>\n",
       "    </tr>\n",
       "    <tr>\n",
       "      <td>B0009V1YR8</td>\n",
       "      <td>2869</td>\n",
       "    </tr>\n",
       "    <tr>\n",
       "      <td>B0043OYFKU</td>\n",
       "      <td>2477</td>\n",
       "    </tr>\n",
       "    <tr>\n",
       "      <td>B0000YUXI0</td>\n",
       "      <td>2143</td>\n",
       "    </tr>\n",
       "    <tr>\n",
       "      <td>B003V265QW</td>\n",
       "      <td>2088</td>\n",
       "    </tr>\n",
       "    <tr>\n",
       "      <td>B000ZMBSPE</td>\n",
       "      <td>2041</td>\n",
       "    </tr>\n",
       "    <tr>\n",
       "      <td>B003BQ6QXK</td>\n",
       "      <td>1918</td>\n",
       "    </tr>\n",
       "    <tr>\n",
       "      <td>B004OHQR1Q</td>\n",
       "      <td>1885</td>\n",
       "    </tr>\n",
       "    <tr>\n",
       "      <td>B00121UVU0</td>\n",
       "      <td>1838</td>\n",
       "    </tr>\n",
       "    <tr>\n",
       "      <td>B000FS05VG</td>\n",
       "      <td>1589</td>\n",
       "    </tr>\n",
       "  </tbody>\n",
       "</table>\n",
       "</div>"
      ],
      "text/plain": [
       "            Rating\n",
       "ProductId         \n",
       "B001MA0QY2    7533\n",
       "B0009V1YR8    2869\n",
       "B0043OYFKU    2477\n",
       "B0000YUXI0    2143\n",
       "B003V265QW    2088\n",
       "B000ZMBSPE    2041\n",
       "B003BQ6QXK    1918\n",
       "B004OHQR1Q    1885\n",
       "B00121UVU0    1838\n",
       "B000FS05VG    1589"
      ]
     },
     "execution_count": 53,
     "metadata": {},
     "output_type": "execute_result"
    }
   ],
   "source": [
    "popular_p = pd.DataFrame(Product_Rate.groupby('ProductId')['Rating'].count())\n",
    "most_popular = popular_p.sort_values('Rating', ascending=False)\n",
    "most_popular.head(10)"
   ]
  },
  {
   "cell_type": "markdown",
   "metadata": {},
   "source": [
    "\n",
    "The graph gives us the most popular products (arranged in descending order) sold by the business.\n",
    "\n",
    "For eaxmple, product, ID # B001MA0QY2 has sales of over 7000, the next most popular product, ID # B0009V1YR8 has sales of 3000, etc\n"
   ]
  },
  {
   "cell_type": "code",
   "execution_count": 16,
   "metadata": {},
   "outputs": [
    {
     "data": {
      "text/plain": [
       "<matplotlib.axes._subplots.AxesSubplot at 0x1dc167dcc08>"
      ]
     },
     "execution_count": 16,
     "metadata": {},
     "output_type": "execute_result"
    },
    {
     "data": {
      "image/png": "[encoded data removed]",
      "text/plain": [
       "<Figure size 432x288 with 1 Axes>"
      ]
     },
     "metadata": {
      "needs_background": "light"
     },
     "output_type": "display_data"
    }
   ],
   "source": [
    "most_popular.head(30).plot(kind = \"bar\")"
   ]
  },
  {
   "cell_type": "markdown",
   "metadata": {},
   "source": [
    "# Recommendation System - Part II\n",
    "Model-based collaborative filtering system¶\n",
    "Recommend items to users based on purchase history and similarity of ratings provided by other users who bought items to that of a particular customer.\n",
    "\n",
    "A model based collaborative filtering technique is closen here as it helps in making predictinfg products for a particular user by identifying patterns based on preferences from multiple user data.\n",
    "\n",
    "Utility Matrix based on products sold and user reviews\n",
    "Utility Matrix\n",
    "\n",
    "An utlity matrix is consists of all possible user-item preferences (ratings) details represented as a matrix. The utility matrix is sparce as none of the users would buy all teh items in the list, hence, most of the values are unknown."
   ]
  },
  {
   "cell_type": "code",
   "execution_count": 17,
   "metadata": {},
   "outputs": [],
   "source": [
    "\n",
    "# Subset of product Ratings\n",
    "\n",
    "Product_Rate1 = Product_Rate.head(10000)"
   ]
  },
  {
   "cell_type": "code",
   "execution_count": 18,
   "metadata": {},
   "outputs": [
    {
     "data": {
      "text/html": [
       "<div>\n",
       "<style scoped>\n",
       "    .dataframe tbody tr th:only-of-type {\n",
       "        vertical-align: middle;\n",
       "    }\n",
       "\n",
       "    .dataframe tbody tr th {\n",
       "        vertical-align: top;\n",
       "    }\n",
       "\n",
       "    .dataframe thead th {\n",
       "        text-align: right;\n",
       "    }\n",
       "</style>\n",
       "<table border=\"1\" class=\"dataframe\">\n",
       "  <thead>\n",
       "    <tr style=\"text-align: right;\">\n",
       "      <th>ProductId</th>\n",
       "      <th>0205616461</th>\n",
       "      <th>0558925278</th>\n",
       "      <th>0733001998</th>\n",
       "      <th>0737104473</th>\n",
       "      <th>0762451459</th>\n",
       "      <th>1304139212</th>\n",
       "      <th>1304139220</th>\n",
       "      <th>130414089X</th>\n",
       "      <th>130414643X</th>\n",
       "      <th>1304146537</th>\n",
       "      <th>...</th>\n",
       "      <th>B000052YPE</th>\n",
       "      <th>B000052YPF</th>\n",
       "      <th>B000052YPG</th>\n",
       "      <th>B000052YPH</th>\n",
       "      <th>B000052YPM</th>\n",
       "      <th>B000052YPU</th>\n",
       "      <th>B000052YPV</th>\n",
       "      <th>B000052YPY</th>\n",
       "      <th>B000052YQ0</th>\n",
       "      <th>B000052YQ2</th>\n",
       "    </tr>\n",
       "    <tr>\n",
       "      <th>UserId</th>\n",
       "      <th></th>\n",
       "      <th></th>\n",
       "      <th></th>\n",
       "      <th></th>\n",
       "      <th></th>\n",
       "      <th></th>\n",
       "      <th></th>\n",
       "      <th></th>\n",
       "      <th></th>\n",
       "      <th></th>\n",
       "      <th></th>\n",
       "      <th></th>\n",
       "      <th></th>\n",
       "      <th></th>\n",
       "      <th></th>\n",
       "      <th></th>\n",
       "      <th></th>\n",
       "      <th></th>\n",
       "      <th></th>\n",
       "      <th></th>\n",
       "      <th></th>\n",
       "    </tr>\n",
       "  </thead>\n",
       "  <tbody>\n",
       "    <tr>\n",
       "      <td>A00205921JHJK5X9LNP42</td>\n",
       "      <td>0</td>\n",
       "      <td>0</td>\n",
       "      <td>0</td>\n",
       "      <td>0</td>\n",
       "      <td>0</td>\n",
       "      <td>0</td>\n",
       "      <td>0</td>\n",
       "      <td>0</td>\n",
       "      <td>0</td>\n",
       "      <td>0</td>\n",
       "      <td>...</td>\n",
       "      <td>0</td>\n",
       "      <td>0</td>\n",
       "      <td>0</td>\n",
       "      <td>0</td>\n",
       "      <td>0</td>\n",
       "      <td>0</td>\n",
       "      <td>0</td>\n",
       "      <td>0</td>\n",
       "      <td>0</td>\n",
       "      <td>0</td>\n",
       "    </tr>\n",
       "    <tr>\n",
       "      <td>A024581134CV80ZBLIZTZ</td>\n",
       "      <td>0</td>\n",
       "      <td>0</td>\n",
       "      <td>0</td>\n",
       "      <td>0</td>\n",
       "      <td>0</td>\n",
       "      <td>0</td>\n",
       "      <td>0</td>\n",
       "      <td>0</td>\n",
       "      <td>0</td>\n",
       "      <td>0</td>\n",
       "      <td>...</td>\n",
       "      <td>0</td>\n",
       "      <td>0</td>\n",
       "      <td>0</td>\n",
       "      <td>0</td>\n",
       "      <td>0</td>\n",
       "      <td>0</td>\n",
       "      <td>0</td>\n",
       "      <td>0</td>\n",
       "      <td>0</td>\n",
       "      <td>0</td>\n",
       "    </tr>\n",
       "    <tr>\n",
       "      <td>A03056581JJIOL5FSKJY7</td>\n",
       "      <td>0</td>\n",
       "      <td>0</td>\n",
       "      <td>0</td>\n",
       "      <td>0</td>\n",
       "      <td>0</td>\n",
       "      <td>0</td>\n",
       "      <td>0</td>\n",
       "      <td>0</td>\n",
       "      <td>0</td>\n",
       "      <td>0</td>\n",
       "      <td>...</td>\n",
       "      <td>0</td>\n",
       "      <td>0</td>\n",
       "      <td>0</td>\n",
       "      <td>0</td>\n",
       "      <td>0</td>\n",
       "      <td>0</td>\n",
       "      <td>0</td>\n",
       "      <td>0</td>\n",
       "      <td>0</td>\n",
       "      <td>0</td>\n",
       "    </tr>\n",
       "    <tr>\n",
       "      <td>A03099101ZRK4K607JVHH</td>\n",
       "      <td>0</td>\n",
       "      <td>0</td>\n",
       "      <td>0</td>\n",
       "      <td>0</td>\n",
       "      <td>0</td>\n",
       "      <td>0</td>\n",
       "      <td>0</td>\n",
       "      <td>0</td>\n",
       "      <td>0</td>\n",
       "      <td>0</td>\n",
       "      <td>...</td>\n",
       "      <td>0</td>\n",
       "      <td>0</td>\n",
       "      <td>0</td>\n",
       "      <td>0</td>\n",
       "      <td>0</td>\n",
       "      <td>0</td>\n",
       "      <td>0</td>\n",
       "      <td>0</td>\n",
       "      <td>0</td>\n",
       "      <td>0</td>\n",
       "    </tr>\n",
       "    <tr>\n",
       "      <td>A0505229A7NSH3FRXRR4</td>\n",
       "      <td>0</td>\n",
       "      <td>0</td>\n",
       "      <td>0</td>\n",
       "      <td>0</td>\n",
       "      <td>0</td>\n",
       "      <td>0</td>\n",
       "      <td>0</td>\n",
       "      <td>0</td>\n",
       "      <td>0</td>\n",
       "      <td>0</td>\n",
       "      <td>...</td>\n",
       "      <td>0</td>\n",
       "      <td>0</td>\n",
       "      <td>0</td>\n",
       "      <td>0</td>\n",
       "      <td>0</td>\n",
       "      <td>0</td>\n",
       "      <td>0</td>\n",
       "      <td>0</td>\n",
       "      <td>0</td>\n",
       "      <td>0</td>\n",
       "    </tr>\n",
       "  </tbody>\n",
       "</table>\n",
       "<p>5 rows × 886 columns</p>\n",
       "</div>"
      ],
      "text/plain": [
       "ProductId              0205616461  0558925278  0733001998  0737104473  \\\n",
       "UserId                                                                  \n",
       "A00205921JHJK5X9LNP42           0           0           0           0   \n",
       "A024581134CV80ZBLIZTZ           0           0           0           0   \n",
       "A03056581JJIOL5FSKJY7           0           0           0           0   \n",
       "A03099101ZRK4K607JVHH           0           0           0           0   \n",
       "A0505229A7NSH3FRXRR4            0           0           0           0   \n",
       "\n",
       "ProductId              0762451459  1304139212  1304139220  130414089X  \\\n",
       "UserId                                                                  \n",
       "A00205921JHJK5X9LNP42           0           0           0           0   \n",
       "A024581134CV80ZBLIZTZ           0           0           0           0   \n",
       "A03056581JJIOL5FSKJY7           0           0           0           0   \n",
       "A03099101ZRK4K607JVHH           0           0           0           0   \n",
       "A0505229A7NSH3FRXRR4            0           0           0           0   \n",
       "\n",
       "ProductId              130414643X  1304146537  ...  B000052YPE  B000052YPF  \\\n",
       "UserId                                         ...                           \n",
       "A00205921JHJK5X9LNP42           0           0  ...           0           0   \n",
       "A024581134CV80ZBLIZTZ           0           0  ...           0           0   \n",
       "A03056581JJIOL5FSKJY7           0           0  ...           0           0   \n",
       "A03099101ZRK4K607JVHH           0           0  ...           0           0   \n",
       "A0505229A7NSH3FRXRR4            0           0  ...           0           0   \n",
       "\n",
       "ProductId              B000052YPG  B000052YPH  B000052YPM  B000052YPU  \\\n",
       "UserId                                                                  \n",
       "A00205921JHJK5X9LNP42           0           0           0           0   \n",
       "A024581134CV80ZBLIZTZ           0           0           0           0   \n",
       "A03056581JJIOL5FSKJY7           0           0           0           0   \n",
       "A03099101ZRK4K607JVHH           0           0           0           0   \n",
       "A0505229A7NSH3FRXRR4            0           0           0           0   \n",
       "\n",
       "ProductId              B000052YPV  B000052YPY  B000052YQ0  B000052YQ2  \n",
       "UserId                                                                 \n",
       "A00205921JHJK5X9LNP42           0           0           0           0  \n",
       "A024581134CV80ZBLIZTZ           0           0           0           0  \n",
       "A03056581JJIOL5FSKJY7           0           0           0           0  \n",
       "A03099101ZRK4K607JVHH           0           0           0           0  \n",
       "A0505229A7NSH3FRXRR4            0           0           0           0  \n",
       "\n",
       "[5 rows x 886 columns]"
      ]
     },
     "execution_count": 18,
     "metadata": {},
     "output_type": "execute_result"
    }
   ],
   "source": [
    "ratings_utility_matrix = Product_Rate1.pivot_table(values='Rating', index='UserId', columns='ProductId', fill_value=0)\n",
    "ratings_utility_matrix.head()"
   ]
  },
  {
   "cell_type": "markdown",
   "metadata": {},
   "source": [
    "As expected, the utility matrix obtaned above is sparce, we have filled up the unknown values wth 0."
   ]
  },
  {
   "cell_type": "code",
   "execution_count": 20,
   "metadata": {},
   "outputs": [
    {
     "data": {
      "text/plain": [
       "(9697, 886)"
      ]
     },
     "execution_count": 20,
     "metadata": {},
     "output_type": "execute_result"
    }
   ],
   "source": [
    "\n",
    "ratings_utility_matrix.shape"
   ]
  },
  {
   "cell_type": "markdown",
   "metadata": {},
   "source": [
    "Transposing the matrix"
   ]
  },
  {
   "cell_type": "code",
   "execution_count": 22,
   "metadata": {},
   "outputs": [
    {
     "data": {
      "text/html": [
       "<div>\n",
       "<style scoped>\n",
       "    .dataframe tbody tr th:only-of-type {\n",
       "        vertical-align: middle;\n",
       "    }\n",
       "\n",
       "    .dataframe tbody tr th {\n",
       "        vertical-align: top;\n",
       "    }\n",
       "\n",
       "    .dataframe thead th {\n",
       "        text-align: right;\n",
       "    }\n",
       "</style>\n",
       "<table border=\"1\" class=\"dataframe\">\n",
       "  <thead>\n",
       "    <tr style=\"text-align: right;\">\n",
       "      <th>UserId</th>\n",
       "      <th>A00205921JHJK5X9LNP42</th>\n",
       "      <th>A024581134CV80ZBLIZTZ</th>\n",
       "      <th>A03056581JJIOL5FSKJY7</th>\n",
       "      <th>A03099101ZRK4K607JVHH</th>\n",
       "      <th>A0505229A7NSH3FRXRR4</th>\n",
       "      <th>A05492663T95KW63BR75K</th>\n",
       "      <th>A059547920Q3LZVFHLPI3</th>\n",
       "      <th>A07410232KYRFR25CIUGJ</th>\n",
       "      <th>A082796624UNM47DSAI6K</th>\n",
       "      <th>A0864963DOAY7LXGS5I6</th>\n",
       "      <th>...</th>\n",
       "      <th>AZW1HXXYAC15B</th>\n",
       "      <th>AZWRTJPN7NXT</th>\n",
       "      <th>AZWTXHXZXFAYP</th>\n",
       "      <th>AZYQEFB9Y5N22</th>\n",
       "      <th>AZZHB6U54UDYW</th>\n",
       "      <th>AZZHJZP4GQPPZ</th>\n",
       "      <th>AZZNK89PXD006</th>\n",
       "      <th>AZZOFVMQC0BJG</th>\n",
       "      <th>AZZQXL8VDCFTV</th>\n",
       "      <th>AZZTJQ7CQZUD8</th>\n",
       "    </tr>\n",
       "    <tr>\n",
       "      <th>ProductId</th>\n",
       "      <th></th>\n",
       "      <th></th>\n",
       "      <th></th>\n",
       "      <th></th>\n",
       "      <th></th>\n",
       "      <th></th>\n",
       "      <th></th>\n",
       "      <th></th>\n",
       "      <th></th>\n",
       "      <th></th>\n",
       "      <th></th>\n",
       "      <th></th>\n",
       "      <th></th>\n",
       "      <th></th>\n",
       "      <th></th>\n",
       "      <th></th>\n",
       "      <th></th>\n",
       "      <th></th>\n",
       "      <th></th>\n",
       "      <th></th>\n",
       "      <th></th>\n",
       "    </tr>\n",
       "  </thead>\n",
       "  <tbody>\n",
       "    <tr>\n",
       "      <td>0205616461</td>\n",
       "      <td>0</td>\n",
       "      <td>0</td>\n",
       "      <td>0</td>\n",
       "      <td>0</td>\n",
       "      <td>0</td>\n",
       "      <td>0</td>\n",
       "      <td>0</td>\n",
       "      <td>0</td>\n",
       "      <td>0</td>\n",
       "      <td>0</td>\n",
       "      <td>...</td>\n",
       "      <td>0</td>\n",
       "      <td>0</td>\n",
       "      <td>0</td>\n",
       "      <td>0</td>\n",
       "      <td>0</td>\n",
       "      <td>0</td>\n",
       "      <td>0</td>\n",
       "      <td>0</td>\n",
       "      <td>0</td>\n",
       "      <td>0</td>\n",
       "    </tr>\n",
       "    <tr>\n",
       "      <td>0558925278</td>\n",
       "      <td>0</td>\n",
       "      <td>0</td>\n",
       "      <td>0</td>\n",
       "      <td>0</td>\n",
       "      <td>0</td>\n",
       "      <td>0</td>\n",
       "      <td>0</td>\n",
       "      <td>0</td>\n",
       "      <td>0</td>\n",
       "      <td>0</td>\n",
       "      <td>...</td>\n",
       "      <td>0</td>\n",
       "      <td>0</td>\n",
       "      <td>0</td>\n",
       "      <td>0</td>\n",
       "      <td>0</td>\n",
       "      <td>0</td>\n",
       "      <td>0</td>\n",
       "      <td>0</td>\n",
       "      <td>0</td>\n",
       "      <td>0</td>\n",
       "    </tr>\n",
       "    <tr>\n",
       "      <td>0733001998</td>\n",
       "      <td>0</td>\n",
       "      <td>0</td>\n",
       "      <td>0</td>\n",
       "      <td>0</td>\n",
       "      <td>0</td>\n",
       "      <td>0</td>\n",
       "      <td>0</td>\n",
       "      <td>0</td>\n",
       "      <td>0</td>\n",
       "      <td>0</td>\n",
       "      <td>...</td>\n",
       "      <td>0</td>\n",
       "      <td>0</td>\n",
       "      <td>0</td>\n",
       "      <td>0</td>\n",
       "      <td>0</td>\n",
       "      <td>0</td>\n",
       "      <td>0</td>\n",
       "      <td>0</td>\n",
       "      <td>0</td>\n",
       "      <td>0</td>\n",
       "    </tr>\n",
       "    <tr>\n",
       "      <td>0737104473</td>\n",
       "      <td>0</td>\n",
       "      <td>0</td>\n",
       "      <td>0</td>\n",
       "      <td>0</td>\n",
       "      <td>0</td>\n",
       "      <td>0</td>\n",
       "      <td>0</td>\n",
       "      <td>0</td>\n",
       "      <td>0</td>\n",
       "      <td>0</td>\n",
       "      <td>...</td>\n",
       "      <td>0</td>\n",
       "      <td>0</td>\n",
       "      <td>0</td>\n",
       "      <td>0</td>\n",
       "      <td>0</td>\n",
       "      <td>0</td>\n",
       "      <td>0</td>\n",
       "      <td>0</td>\n",
       "      <td>0</td>\n",
       "      <td>0</td>\n",
       "    </tr>\n",
       "    <tr>\n",
       "      <td>0762451459</td>\n",
       "      <td>0</td>\n",
       "      <td>0</td>\n",
       "      <td>0</td>\n",
       "      <td>0</td>\n",
       "      <td>0</td>\n",
       "      <td>0</td>\n",
       "      <td>0</td>\n",
       "      <td>0</td>\n",
       "      <td>0</td>\n",
       "      <td>0</td>\n",
       "      <td>...</td>\n",
       "      <td>0</td>\n",
       "      <td>0</td>\n",
       "      <td>0</td>\n",
       "      <td>0</td>\n",
       "      <td>0</td>\n",
       "      <td>0</td>\n",
       "      <td>0</td>\n",
       "      <td>0</td>\n",
       "      <td>0</td>\n",
       "      <td>0</td>\n",
       "    </tr>\n",
       "  </tbody>\n",
       "</table>\n",
       "<p>5 rows × 9697 columns</p>\n",
       "</div>"
      ],
      "text/plain": [
       "UserId      A00205921JHJK5X9LNP42  A024581134CV80ZBLIZTZ  \\\n",
       "ProductId                                                  \n",
       "0205616461                      0                      0   \n",
       "0558925278                      0                      0   \n",
       "0733001998                      0                      0   \n",
       "0737104473                      0                      0   \n",
       "0762451459                      0                      0   \n",
       "\n",
       "UserId      A03056581JJIOL5FSKJY7  A03099101ZRK4K607JVHH  \\\n",
       "ProductId                                                  \n",
       "0205616461                      0                      0   \n",
       "0558925278                      0                      0   \n",
       "0733001998                      0                      0   \n",
       "0737104473                      0                      0   \n",
       "0762451459                      0                      0   \n",
       "\n",
       "UserId      A0505229A7NSH3FRXRR4  A05492663T95KW63BR75K  \\\n",
       "ProductId                                                 \n",
       "0205616461                     0                      0   \n",
       "0558925278                     0                      0   \n",
       "0733001998                     0                      0   \n",
       "0737104473                     0                      0   \n",
       "0762451459                     0                      0   \n",
       "\n",
       "UserId      A059547920Q3LZVFHLPI3  A07410232KYRFR25CIUGJ  \\\n",
       "ProductId                                                  \n",
       "0205616461                      0                      0   \n",
       "0558925278                      0                      0   \n",
       "0733001998                      0                      0   \n",
       "0737104473                      0                      0   \n",
       "0762451459                      0                      0   \n",
       "\n",
       "UserId      A082796624UNM47DSAI6K  A0864963DOAY7LXGS5I6  ...  AZW1HXXYAC15B  \\\n",
       "ProductId                                                ...                  \n",
       "0205616461                      0                     0  ...              0   \n",
       "0558925278                      0                     0  ...              0   \n",
       "0733001998                      0                     0  ...              0   \n",
       "0737104473                      0                     0  ...              0   \n",
       "0762451459                      0                     0  ...              0   \n",
       "\n",
       "UserId      AZWRTJPN7NXT  AZWTXHXZXFAYP  AZYQEFB9Y5N22  AZZHB6U54UDYW  \\\n",
       "ProductId                                                               \n",
       "0205616461             0              0              0              0   \n",
       "0558925278             0              0              0              0   \n",
       "0733001998             0              0              0              0   \n",
       "0737104473             0              0              0              0   \n",
       "0762451459             0              0              0              0   \n",
       "\n",
       "UserId      AZZHJZP4GQPPZ  AZZNK89PXD006  AZZOFVMQC0BJG  AZZQXL8VDCFTV  \\\n",
       "ProductId                                                                \n",
       "0205616461              0              0              0              0   \n",
       "0558925278              0              0              0              0   \n",
       "0733001998              0              0              0              0   \n",
       "0737104473              0              0              0              0   \n",
       "0762451459              0              0              0              0   \n",
       "\n",
       "UserId      AZZTJQ7CQZUD8  \n",
       "ProductId                  \n",
       "0205616461              0  \n",
       "0558925278              0  \n",
       "0733001998              0  \n",
       "0737104473              0  \n",
       "0762451459              0  \n",
       "\n",
       "[5 rows x 9697 columns]"
      ]
     },
     "execution_count": 22,
     "metadata": {},
     "output_type": "execute_result"
    }
   ],
   "source": [
    "X = ratings_utility_matrix.T\n",
    "X.head()"
   ]
  },
  {
   "cell_type": "code",
   "execution_count": 23,
   "metadata": {},
   "outputs": [
    {
     "data": {
      "text/plain": [
       "(886, 9697)"
      ]
     },
     "execution_count": 23,
     "metadata": {},
     "output_type": "execute_result"
    }
   ],
   "source": [
    "\n",
    "X.shape"
   ]
  },
  {
   "cell_type": "markdown",
   "metadata": {},
   "source": [
    "Unique products in subset of data"
   ]
  },
  {
   "cell_type": "code",
   "execution_count": 25,
   "metadata": {},
   "outputs": [],
   "source": [
    "X1 = X"
   ]
  },
  {
   "cell_type": "markdown",
   "metadata": {},
   "source": [
    "Decomposing the Matrix"
   ]
  },
  {
   "cell_type": "code",
   "execution_count": 26,
   "metadata": {},
   "outputs": [
    {
     "data": {
      "text/plain": [
       "(886, 10)"
      ]
     },
     "execution_count": 26,
     "metadata": {},
     "output_type": "execute_result"
    }
   ],
   "source": [
    "SVD = TruncatedSVD(n_components=10)\n",
    "decomposed_matrix = SVD.fit_transform(X)\n",
    "decomposed_matrix.shape"
   ]
  },
  {
   "cell_type": "markdown",
   "metadata": {},
   "source": [
    "Correlation Matrix"
   ]
  },
  {
   "cell_type": "code",
   "execution_count": 28,
   "metadata": {},
   "outputs": [
    {
     "data": {
      "text/plain": [
       "(886, 886)"
      ]
     },
     "execution_count": 28,
     "metadata": {},
     "output_type": "execute_result"
    }
   ],
   "source": [
    "correlation_matrix = np.corrcoef(decomposed_matrix)\n",
    "correlation_matrix.shape"
   ]
  },
  {
   "cell_type": "markdown",
   "metadata": {},
   "source": [
    "Isolating Product ID # 6117036094 from the Correlation Matrix\n",
    "Assuming the customer buys Product ID # 6117036094 (randomly chosen)\n",
    "\n"
   ]
  },
  {
   "cell_type": "code",
   "execution_count": 29,
   "metadata": {},
   "outputs": [
    {
     "data": {
      "text/plain": [
       "'6117036094'"
      ]
     },
     "execution_count": 29,
     "metadata": {},
     "output_type": "execute_result"
    }
   ],
   "source": [
    "X.index[99]\n"
   ]
  },
  {
   "cell_type": "markdown",
   "metadata": {},
   "source": [
    "Index # of product ID purchased by customer"
   ]
  },
  {
   "cell_type": "code",
   "execution_count": 30,
   "metadata": {},
   "outputs": [
    {
     "data": {
      "text/plain": [
       "99"
      ]
     },
     "execution_count": 30,
     "metadata": {},
     "output_type": "execute_result"
    }
   ],
   "source": [
    "i = \"6117036094\"\n",
    "\n",
    "product_names = list(X.index)\n",
    "product_ID = product_names.index(i)\n",
    "product_ID"
   ]
  },
  {
   "cell_type": "markdown",
   "metadata": {},
   "source": [
    "Correlation for all items with the item purchased by this customer based on items rated by other customers people who bought the same product"
   ]
  },
  {
   "cell_type": "code",
   "execution_count": 31,
   "metadata": {},
   "outputs": [
    {
     "data": {
      "text/plain": [
       "(886,)"
      ]
     },
     "execution_count": 31,
     "metadata": {},
     "output_type": "execute_result"
    }
   ],
   "source": [
    "correlation_product_ID = correlation_matrix[product_ID]\n",
    "correlation_product_ID.shape"
   ]
  },
  {
   "cell_type": "markdown",
   "metadata": {},
   "source": [
    "# Recommending top 10 highly correlated products in sequence"
   ]
  },
  {
   "cell_type": "code",
   "execution_count": 36,
   "metadata": {},
   "outputs": [
    {
     "data": {
      "text/plain": [
       "['602260074X', '9790797885', 'B000052YKG']"
      ]
     },
     "execution_count": 36,
     "metadata": {},
     "output_type": "execute_result"
    }
   ],
   "source": [
    "Recommend = list(X.index[correlation_product_ID > 0.90])\n",
    "\n",
    "# Removes the item already bought by the customer\n",
    "Recommend.remove(i) \n",
    "\n",
    "Recommend[0:9]"
   ]
  },
  {
   "cell_type": "markdown",
   "metadata": {},
   "source": [
    "Product Id # Here are the top 10 products to be displayed by the recommendation system to the above customer based on the purchase history of other customers in the website."
   ]
  },
  {
   "cell_type": "markdown",
   "metadata": {},
   "source": [
    "# Recommendation System - Part III\n",
    "For a business without any user-item purchase history, a search engine based recommendation system can be designed for users. The product recommendations can be based on textual clustering analysis given in product description."
   ]
  },
  {
   "cell_type": "code",
   "execution_count": 35,
   "metadata": {},
   "outputs": [],
   "source": [
    "\n",
    "# Importing libraries\n",
    "\n",
    "from sklearn.feature_extraction.text import TfidfVectorizer, CountVectorizer\n",
    "from sklearn.neighbors import NearestNeighbors\n",
    "from sklearn.cluster import KMeans\n",
    "from sklearn.metrics import adjusted_rand_score"
   ]
  },
  {
   "cell_type": "code",
   "execution_count": 37,
   "metadata": {},
   "outputs": [
    {
     "data": {
      "text/plain": [
       "(124428, 2)"
      ]
     },
     "execution_count": 37,
     "metadata": {},
     "output_type": "execute_result"
    }
   ],
   "source": [
    "product_descriptions = pd.read_csv('product_descriptions.csv')\n",
    "product_descriptions.shape"
   ]
  },
  {
   "cell_type": "markdown",
   "metadata": {},
   "source": [
    "Checking for missing values"
   ]
  },
  {
   "cell_type": "code",
   "execution_count": 38,
   "metadata": {},
   "outputs": [
    {
     "data": {
      "text/html": [
       "<div>\n",
       "<style scoped>\n",
       "    .dataframe tbody tr th:only-of-type {\n",
       "        vertical-align: middle;\n",
       "    }\n",
       "\n",
       "    .dataframe tbody tr th {\n",
       "        vertical-align: top;\n",
       "    }\n",
       "\n",
       "    .dataframe thead th {\n",
       "        text-align: right;\n",
       "    }\n",
       "</style>\n",
       "<table border=\"1\" class=\"dataframe\">\n",
       "  <thead>\n",
       "    <tr style=\"text-align: right;\">\n",
       "      <th></th>\n",
       "      <th>product_uid</th>\n",
       "      <th>product_description</th>\n",
       "    </tr>\n",
       "  </thead>\n",
       "  <tbody>\n",
       "    <tr>\n",
       "      <td>0</td>\n",
       "      <td>100001</td>\n",
       "      <td>Not only do angles make joints stronger, they ...</td>\n",
       "    </tr>\n",
       "    <tr>\n",
       "      <td>1</td>\n",
       "      <td>100002</td>\n",
       "      <td>BEHR Premium Textured DECKOVER is an innovativ...</td>\n",
       "    </tr>\n",
       "    <tr>\n",
       "      <td>2</td>\n",
       "      <td>100003</td>\n",
       "      <td>Classic architecture meets contemporary design...</td>\n",
       "    </tr>\n",
       "    <tr>\n",
       "      <td>3</td>\n",
       "      <td>100004</td>\n",
       "      <td>The Grape Solar 265-Watt Polycrystalline PV So...</td>\n",
       "    </tr>\n",
       "    <tr>\n",
       "      <td>4</td>\n",
       "      <td>100005</td>\n",
       "      <td>Update your bathroom with the Delta Vero Singl...</td>\n",
       "    </tr>\n",
       "  </tbody>\n",
       "</table>\n",
       "</div>"
      ],
      "text/plain": [
       "   product_uid                                product_description\n",
       "0       100001  Not only do angles make joints stronger, they ...\n",
       "1       100002  BEHR Premium Textured DECKOVER is an innovativ...\n",
       "2       100003  Classic architecture meets contemporary design...\n",
       "3       100004  The Grape Solar 265-Watt Polycrystalline PV So...\n",
       "4       100005  Update your bathroom with the Delta Vero Singl..."
      ]
     },
     "execution_count": 38,
     "metadata": {},
     "output_type": "execute_result"
    }
   ],
   "source": [
    "# Missing values\n",
    "\n",
    "product_descriptions = product_descriptions.dropna()\n",
    "product_descriptions.shape\n",
    "product_descriptions.head()"
   ]
  },
  {
   "cell_type": "code",
   "execution_count": 39,
   "metadata": {},
   "outputs": [
    {
     "data": {
      "text/plain": [
       "0    Not only do angles make joints stronger, they ...\n",
       "1    BEHR Premium Textured DECKOVER is an innovativ...\n",
       "2    Classic architecture meets contemporary design...\n",
       "3    The Grape Solar 265-Watt Polycrystalline PV So...\n",
       "4    Update your bathroom with the Delta Vero Singl...\n",
       "5    Achieving delicious results is almost effortle...\n",
       "6    The Quantum Adjustable 2-Light LED Black Emerg...\n",
       "7    The Teks #10 x 1-1/2 in. Zinc-Plated Steel Was...\n",
       "8    Get the House of Fara 3/4 in. x 3 in. x 8 ft. ...\n",
       "9    Valley View Industries Metal Stakes (4-Pack) a...\n",
       "Name: product_description, dtype: object"
      ]
     },
     "execution_count": 39,
     "metadata": {},
     "output_type": "execute_result"
    }
   ],
   "source": [
    "product_descriptions1 = product_descriptions.head(500)\n",
    "# product_descriptions1.iloc[:,1]\n",
    "\n",
    "product_descriptions1[\"product_description\"].head(10)"
   ]
  },
  {
   "cell_type": "markdown",
   "metadata": {},
   "source": [
    "Feature extraction from product descriptions¶\n",
    "Converting the text in product description into numerical data for analysis"
   ]
  },
  {
   "cell_type": "code",
   "execution_count": 40,
   "metadata": {},
   "outputs": [
    {
     "data": {
      "text/plain": [
       "<500x8932 sparse matrix of type '<class 'numpy.float64'>'\n",
       "\twith 34817 stored elements in Compressed Sparse Row format>"
      ]
     },
     "execution_count": 40,
     "metadata": {},
     "output_type": "execute_result"
    }
   ],
   "source": [
    "vectorizer = TfidfVectorizer(stop_words='english')\n",
    "X1 = vectorizer.fit_transform(product_descriptions1[\"product_description\"])\n",
    "X1"
   ]
  },
  {
   "cell_type": "markdown",
   "metadata": {},
   "source": [
    "Visualizing product clusters in subset of data"
   ]
  },
  {
   "cell_type": "code",
   "execution_count": 41,
   "metadata": {},
   "outputs": [
    {
     "data": {
      "image/png": "[encoded data removed]",
      "text/plain": [
       "<Figure size 432x288 with 1 Axes>"
      ]
     },
     "metadata": {
      "needs_background": "light"
     },
     "output_type": "display_data"
    }
   ],
   "source": [
    "# Fitting K-Means to the dataset\n",
    "\n",
    "X=X1\n",
    "\n",
    "kmeans = KMeans(n_clusters = 10, init = 'k-means++')\n",
    "y_kmeans = kmeans.fit_predict(X)\n",
    "plt.plot(y_kmeans, \".\")\n",
    "plt.show()"
   ]
  },
  {
   "cell_type": "code",
   "execution_count": 42,
   "metadata": {},
   "outputs": [],
   "source": [
    "def print_cluster(i):\n",
    "    print(\"Cluster %d:\" % i),\n",
    "    for ind in order_centroids[i, :10]:\n",
    "        print(' %s' % terms[ind]),\n",
    "    print"
   ]
  },
  {
   "cell_type": "markdown",
   "metadata": {},
   "source": [
    "Output\n",
    "Recommendation of product based on the current product selected by user.\n",
    "To recommend related product based on, Frequently bought together.\n",
    "\n",
    "\n",
    "\n",
    "\n",
    "Top words in each cluster based on product description"
   ]
  },
  {
   "cell_type": "code",
   "execution_count": 43,
   "metadata": {},
   "outputs": [
    {
     "name": "stdout",
     "output_type": "stream",
     "text": [
      "Top terms per cluster:\n",
      "Cluster 0:\n",
      " cutting\n",
      " pole\n",
      " blade\n",
      " saw\n",
      " tool\n",
      " easy\n",
      " pruner\n",
      " power\n",
      " window\n",
      " motor\n",
      "Cluster 1:\n",
      " water\n",
      " easy\n",
      " tank\n",
      " heater\n",
      " toilet\n",
      " helps\n",
      " year\n",
      " design\n",
      " cycle\n",
      " installation\n",
      "Cluster 2:\n",
      " light\n",
      " watt\n",
      " bulb\n",
      " led\n",
      " fan\n",
      " bulbs\n",
      " fixture\n",
      " lighting\n",
      " energy\n",
      " free\n",
      "Cluster 3:\n",
      " metal\n",
      " drill\n",
      " steel\n",
      " 20\n",
      " watering\n",
      " screw\n",
      " gauge\n",
      " hole\n",
      " use\n",
      " plated\n",
      "Cluster 4:\n",
      " storage\n",
      " shelves\n",
      " easy\n",
      " piece\n",
      " commercial\n",
      " installation\n",
      " wall\n",
      " finish\n",
      " design\n",
      " residential\n",
      "Cluster 5:\n",
      " concrete\n",
      " ft\n",
      " brush\n",
      " water\n",
      " use\n",
      " seal\n",
      " provides\n",
      " paint\n",
      " based\n",
      " insulation\n",
      "Cluster 6:\n",
      " ft\n",
      " wood\n",
      " vary\n",
      " 100\n",
      " product\n",
      " painting\n",
      " painted\n",
      " rug\n",
      " tape\n",
      " store\n",
      "Cluster 7:\n",
      " frame\n",
      " patio\n",
      " collection\n",
      " fabric\n",
      " dining\n",
      " dog\n",
      " outdoor\n",
      " rust\n",
      " cushions\n",
      " wicker\n",
      "Cluster 8:\n",
      " power\n",
      " air\n",
      " cooling\n",
      " cabinet\n",
      " pull\n",
      " volt\n",
      " unit\n",
      " control\n",
      " room\n",
      " center\n",
      "Cluster 9:\n",
      " post\n",
      " fence\n",
      " posts\n",
      " trim\n",
      " rail\n",
      " ft\n",
      " azek\n",
      " painted\n",
      " speaker\n",
      " plate\n"
     ]
    }
   ],
   "source": [
    "# # Optimal clusters is \n",
    "\n",
    "true_k = 10\n",
    "\n",
    "model = KMeans(n_clusters=true_k, init='k-means++', max_iter=100, n_init=1)\n",
    "model.fit(X1)\n",
    "\n",
    "print(\"Top terms per cluster:\")\n",
    "order_centroids = model.cluster_centers_.argsort()[:, ::-1]\n",
    "terms = vectorizer.get_feature_names()\n",
    "for i in range(true_k):\n",
    "    print_cluster(i)"
   ]
  },
  {
   "cell_type": "markdown",
   "metadata": {},
   "source": [
    "Predicting clusters based on key search words"
   ]
  },
  {
   "cell_type": "code",
   "execution_count": 44,
   "metadata": {},
   "outputs": [],
   "source": [
    "def show_recommendations(product):\n",
    "    #print(\"Cluster ID:\")\n",
    "    Y = vectorizer.transform([product])\n",
    "    prediction = model.predict(Y)\n",
    "    #print(prediction)\n",
    "    print_cluster(prediction[0])"
   ]
  },
  {
   "cell_type": "markdown",
   "metadata": {},
   "source": [
    "Keyword : Cutting tool"
   ]
  },
  {
   "cell_type": "code",
   "execution_count": 45,
   "metadata": {},
   "outputs": [
    {
     "name": "stdout",
     "output_type": "stream",
     "text": [
      "Cluster 0:\n",
      " cutting\n",
      " pole\n",
      " blade\n",
      " saw\n",
      " tool\n",
      " easy\n",
      " pruner\n",
      " power\n",
      " window\n",
      " motor\n"
     ]
    }
   ],
   "source": [
    "show_recommendations(\"cutting tool\")"
   ]
  },
  {
   "cell_type": "markdown",
   "metadata": {},
   "source": [
    "Keyword : spray paint"
   ]
  },
  {
   "cell_type": "code",
   "execution_count": 46,
   "metadata": {},
   "outputs": [
    {
     "name": "stdout",
     "output_type": "stream",
     "text": [
      "Cluster 5:\n",
      " concrete\n",
      " ft\n",
      " brush\n",
      " water\n",
      " use\n",
      " seal\n",
      " provides\n",
      " paint\n",
      " based\n",
      " insulation\n"
     ]
    }
   ],
   "source": [
    "show_recommendations(\"spray paint\")"
   ]
  },
  {
   "cell_type": "markdown",
   "metadata": {},
   "source": [
    "Keyword : steel drill"
   ]
  },
  {
   "cell_type": "code",
   "execution_count": 47,
   "metadata": {},
   "outputs": [
    {
     "name": "stdout",
     "output_type": "stream",
     "text": [
      "Cluster 3:\n",
      " metal\n",
      " drill\n",
      " steel\n",
      " 20\n",
      " watering\n",
      " screw\n",
      " gauge\n",
      " hole\n",
      " use\n",
      " plated\n"
     ]
    }
   ],
   "source": [
    "show_recommendations(\"steel drill\")"
   ]
  },
  {
   "cell_type": "markdown",
   "metadata": {},
   "source": [
    "In case a word appears in multiple clusters, the algorithm chooses the cluster with the highest frequency of occurance of the word.\n",
    "\n",
    "\n",
    "\n",
    "Keyword : water"
   ]
  },
  {
   "cell_type": "code",
   "execution_count": 48,
   "metadata": {},
   "outputs": [
    {
     "name": "stdout",
     "output_type": "stream",
     "text": [
      "Cluster 1:\n",
      " water\n",
      " easy\n",
      " tank\n",
      " heater\n",
      " toilet\n",
      " helps\n",
      " year\n",
      " design\n",
      " cycle\n",
      " installation\n"
     ]
    }
   ],
   "source": [
    "show_recommendations(\"water\")"
   ]
  },
  {
   "cell_type": "markdown",
   "metadata": {},
   "source": [
    "Once a cluster is identified based on the user's search words, the recommendation system can display items from the corresponding product clusters based on the product descriptions."
   ]
  },
  {
   "cell_type": "markdown",
   "metadata": {},
   "source": [
    "# Summary:\n",
    "This works best if a business is setting up its e-commerce website for the first time and does not have user-item purchase/rating history to start with initally. This recommendation system will help the users get a good recommendation to start with and once the buyers have a purchased history, the recommendation engine can use the model based collaborative filtering technique."
   ]
  },
  {
   "cell_type": "code",
   "execution_count": null,
   "metadata": {},
   "outputs": [],
   "source": []
  }
 ],
 "metadata": {
  "kernelspec": {
   "display_name": "Python 3",
   "language": "python",
   "name": "python3"
  },
  "language_info": {
   "codemirror_mode": {
    "name": "ipython",
    "version": 3
   },
   "file_extension": ".py",
   "mimetype": "text/x-python",
   "name": "python",
   "nbconvert_exporter": "python",
   "pygments_lexer": "ipython3",
   "version": "3.7.4"
  }
 },
 "nbformat": 4,
 "nbformat_minor": 2
}
